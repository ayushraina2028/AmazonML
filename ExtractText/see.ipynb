{
 "cells": [
  {
   "cell_type": "code",
   "execution_count": 2,
   "metadata": {},
   "outputs": [],
   "source": [
    "import pandas as pd  \n"
   ]
  },
  {
   "cell_type": "code",
   "execution_count": 3,
   "metadata": {},
   "outputs": [],
   "source": [
    "df = pd.read_csv('easyocr_results.csv')"
   ]
  },
  {
   "cell_type": "code",
   "execution_count": 4,
   "metadata": {},
   "outputs": [
    {
     "data": {
      "text/html": [
       "<div>\n",
       "<style scoped>\n",
       "    .dataframe tbody tr th:only-of-type {\n",
       "        vertical-align: middle;\n",
       "    }\n",
       "\n",
       "    .dataframe tbody tr th {\n",
       "        vertical-align: top;\n",
       "    }\n",
       "\n",
       "    .dataframe thead th {\n",
       "        text-align: right;\n",
       "    }\n",
       "</style>\n",
       "<table border=\"1\" class=\"dataframe\">\n",
       "  <thead>\n",
       "    <tr style=\"text-align: right;\">\n",
       "      <th></th>\n",
       "      <th>filename</th>\n",
       "      <th>ocr_text</th>\n",
       "      <th>bounding_boxes</th>\n",
       "      <th>confidences</th>\n",
       "    </tr>\n",
       "  </thead>\n",
       "  <tbody>\n",
       "    <tr>\n",
       "      <th>0</th>\n",
       "      <td>51fPgo4gW2L.jpg</td>\n",
       "      <td>16mm | (0.63 inch) | 22mm | (0.87 inch) | 316L...</td>\n",
       "      <td>[[[701, 69], [799, 69], [799, 105], [701, 105]...</td>\n",
       "      <td>[0.8902028799057007, 0.8564061490040278, 0.837...</td>\n",
       "    </tr>\n",
       "    <tr>\n",
       "      <th>1</th>\n",
       "      <td>81UIwaGaLjL.jpg</td>\n",
       "      <td>HOHE BIOLOGISCHE WERTIGKEIT UND 100% VEGAN | P...</td>\n",
       "      <td>[[[106, 89], [2392, 89], [2392, 199], [106, 19...</td>\n",
       "      <td>[0.7251800921456026, 0.8686692591671341, 0.626...</td>\n",
       "    </tr>\n",
       "    <tr>\n",
       "      <th>2</th>\n",
       "      <td>71okdOEdBtL.jpg</td>\n",
       "      <td>AIN'T | OF | lo GHOST | Y | Ile | AFRAID | GHO...</td>\n",
       "      <td>[[[330, 267], [661, 267], [661, 400], [330, 40...</td>\n",
       "      <td>[0.9815805594977994, 0.9967059815078638, 0.786...</td>\n",
       "    </tr>\n",
       "    <tr>\n",
       "      <th>3</th>\n",
       "      <td>61Xz8H1JoqL.jpg</td>\n",
       "      <td>4 gm Protein | per serve | High Fiber</td>\n",
       "      <td>[[[106, 297], [596, 297], [596, 420], [106, 42...</td>\n",
       "      <td>[0.8811263994149566, 0.9348535959400338, 0.854...</td>\n",
       "    </tr>\n",
       "    <tr>\n",
       "      <th>4</th>\n",
       "      <td>71xbGE4AV3L.jpg</td>\n",
       "      <td>Weight: 0.92kg/ 2.Olbs | 8 | 3 | 14 | .2in/36c...</td>\n",
       "      <td>[[[925, 76], [1559, 76], [1559, 165], [925, 16...</td>\n",
       "      <td>[0.7041409102575988, 0.5330926266664484, 0.995...</td>\n",
       "    </tr>\n",
       "  </tbody>\n",
       "</table>\n",
       "</div>"
      ],
      "text/plain": [
       "          filename                                           ocr_text  \\\n",
       "0  51fPgo4gW2L.jpg  16mm | (0.63 inch) | 22mm | (0.87 inch) | 316L...   \n",
       "1  81UIwaGaLjL.jpg  HOHE BIOLOGISCHE WERTIGKEIT UND 100% VEGAN | P...   \n",
       "2  71okdOEdBtL.jpg  AIN'T | OF | lo GHOST | Y | Ile | AFRAID | GHO...   \n",
       "3  61Xz8H1JoqL.jpg              4 gm Protein | per serve | High Fiber   \n",
       "4  71xbGE4AV3L.jpg  Weight: 0.92kg/ 2.Olbs | 8 | 3 | 14 | .2in/36c...   \n",
       "\n",
       "                                      bounding_boxes  \\\n",
       "0  [[[701, 69], [799, 69], [799, 105], [701, 105]...   \n",
       "1  [[[106, 89], [2392, 89], [2392, 199], [106, 19...   \n",
       "2  [[[330, 267], [661, 267], [661, 400], [330, 40...   \n",
       "3  [[[106, 297], [596, 297], [596, 420], [106, 42...   \n",
       "4  [[[925, 76], [1559, 76], [1559, 165], [925, 16...   \n",
       "\n",
       "                                         confidences  \n",
       "0  [0.8902028799057007, 0.8564061490040278, 0.837...  \n",
       "1  [0.7251800921456026, 0.8686692591671341, 0.626...  \n",
       "2  [0.9815805594977994, 0.9967059815078638, 0.786...  \n",
       "3  [0.8811263994149566, 0.9348535959400338, 0.854...  \n",
       "4  [0.7041409102575988, 0.5330926266664484, 0.995...  "
      ]
     },
     "execution_count": 4,
     "metadata": {},
     "output_type": "execute_result"
    }
   ],
   "source": [
    "df.head()"
   ]
  },
  {
   "cell_type": "code",
   "execution_count": 8,
   "metadata": {},
   "outputs": [
    {
     "data": {
      "text/plain": [
       "[[[925, 76], [1559, 76], [1559, 165], [925, 165]],\n",
       " [[1352, 664], [1426, 664], [1426, 898], [1352, 898]],\n",
       " [[1355, 913], [1423, 913], [1423, 1071], [1355, 1071]],\n",
       " [[391.16252172385566, 1159.0439563766288],\n",
       "  [484.88326678433515, 1203.6383448281604],\n",
       "  [452.83747827614434, 1269.9560436233712],\n",
       "  [359.11673321566485, 1225.3616551718396]],\n",
       " [[465.4981207076296, 1185.0126020818288],\n",
       "  [789.8293719929092, 1325.160585358052],\n",
       "  [752.5018792923704, 1403.9873979181712],\n",
       "  [428.1706280070908, 1264.839414641948]],\n",
       " [[1218.2214851534113, 1380.4980099142103],\n",
       "  [1323.6914517707976, 1355.3779561776269],\n",
       "  [1335.7785148465887, 1422.5019900857897],\n",
       "  [1230.3085482292024, 1447.6220438223731]],\n",
       " [[978.4217371477885, 1444.1265211443365],\n",
       "  [1229.326540488924, 1369.4620650521779],\n",
       "  [1251.5782628522115, 1446.8734788556635],\n",
       "  [1000.673459511076, 1521.5379349478221]]]"
      ]
     },
     "execution_count": 8,
     "metadata": {},
     "output_type": "execute_result"
    }
   ],
   "source": [
    "eval(df[\"bounding_boxes\"][4])"
   ]
  },
  {
   "cell_type": "code",
   "execution_count": 9,
   "metadata": {},
   "outputs": [
    {
     "data": {
      "text/plain": [
       "'[0.7041409102575988, 0.5330926266664484, 0.9954521030283701, 1.0, 0.9638964847232078, 0.8112455653133372, 0.8788067599158788]'"
      ]
     },
     "execution_count": 9,
     "metadata": {},
     "output_type": "execute_result"
    }
   ],
   "source": [
    "df[\"confidences\"][4]"
   ]
  },
  {
   "cell_type": "code",
   "execution_count": null,
   "metadata": {},
   "outputs": [],
   "source": []
  }
 ],
 "metadata": {
  "kernelspec": {
   "display_name": "Python 3",
   "language": "python",
   "name": "python3"
  },
  "language_info": {
   "codemirror_mode": {
    "name": "ipython",
    "version": 3
   },
   "file_extension": ".py",
   "mimetype": "text/x-python",
   "name": "python",
   "nbconvert_exporter": "python",
   "pygments_lexer": "ipython3",
   "version": "3.12.0"
  }
 },
 "nbformat": 4,
 "nbformat_minor": 2
}
