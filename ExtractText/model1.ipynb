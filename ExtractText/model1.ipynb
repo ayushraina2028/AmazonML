{
 "cells": [
  {
   "cell_type": "code",
   "execution_count": 230,
   "metadata": {},
   "outputs": [],
   "source": [
    "import pandas as pd"
   ]
  },
  {
   "cell_type": "code",
   "execution_count": 231,
   "metadata": {},
   "outputs": [],
   "source": [
    "df = pd.read_csv('easyocr_results_100.csv')"
   ]
  },
  {
   "cell_type": "code",
   "execution_count": 232,
   "metadata": {},
   "outputs": [
    {
     "data": {
      "text/html": [
       "<div>\n",
       "<style scoped>\n",
       "    .dataframe tbody tr th:only-of-type {\n",
       "        vertical-align: middle;\n",
       "    }\n",
       "\n",
       "    .dataframe tbody tr th {\n",
       "        vertical-align: top;\n",
       "    }\n",
       "\n",
       "    .dataframe thead th {\n",
       "        text-align: right;\n",
       "    }\n",
       "</style>\n",
       "<table border=\"1\" class=\"dataframe\">\n",
       "  <thead>\n",
       "    <tr style=\"text-align: right;\">\n",
       "      <th></th>\n",
       "      <th>filename</th>\n",
       "      <th>ocr_text</th>\n",
       "      <th>bounding_boxes</th>\n",
       "      <th>confidences</th>\n",
       "    </tr>\n",
       "  </thead>\n",
       "  <tbody>\n",
       "    <tr>\n",
       "      <th>0</th>\n",
       "      <td>612M0V6x00L.jpg</td>\n",
       "      <td>DIMENSIONS | inch | 8 | 1.34  | inch | inch| |...</td>\n",
       "      <td>[[[72, 108], [744, 108], [744, 208], [72, 208]...</td>\n",
       "      <td>[0.9999683339872828, 0.994195315096643, 0.9957...</td>\n",
       "    </tr>\n",
       "    <tr>\n",
       "      <th>1</th>\n",
       "      <td>51H4KRetCaL.jpg</td>\n",
       "      <td>7.9inch | 13.8inch | 8.3inch | 6.8inch</td>\n",
       "      <td>[[[321, 429], [487, 429], [487, 504], [321, 50...</td>\n",
       "      <td>[0.8948102844743362, 0.9990927450241459, 0.999...</td>\n",
       "    </tr>\n",
       "    <tr>\n",
       "      <th>2</th>\n",
       "      <td>51aB8tWuI7L.jpg</td>\n",
       "      <td>Size | 104mml 4.09 inch | 26mm | 8 | 110mml | ...</td>\n",
       "      <td>[[[42, 44], [548, 44], [548, 240], [42, 240]],...</td>\n",
       "      <td>[0.9999802708625793, 0.813093493905879, 0.9998...</td>\n",
       "    </tr>\n",
       "    <tr>\n",
       "      <th>3</th>\n",
       "      <td>61B8m15lM2L.jpg</td>\n",
       "      <td>Colour | TRONI | Material | Polyester, Wood, |...</td>\n",
       "      <td>[[[960, 280], [1106, 280], [1106, 328], [960, ...</td>\n",
       "      <td>[0.9999794138161714, 0.9992398964970641, 0.999...</td>\n",
       "    </tr>\n",
       "    <tr>\n",
       "      <th>4</th>\n",
       "      <td>717ivWYnzNL.jpg</td>\n",
       "      <td>18W 2OOOLM CORDLESS LED SPOTLICGHM' | W/h 3 LI...</td>\n",
       "      <td>[[[96, 15], [1404, 15], [1404, 92], [96, 92]],...</td>\n",
       "      <td>[0.27820453229576786, 0.35610238375333075, 0.9...</td>\n",
       "    </tr>\n",
       "  </tbody>\n",
       "</table>\n",
       "</div>"
      ],
      "text/plain": [
       "          filename                                           ocr_text  \\\n",
       "0  612M0V6x00L.jpg  DIMENSIONS | inch | 8 | 1.34  | inch | inch| |...   \n",
       "1  51H4KRetCaL.jpg             7.9inch | 13.8inch | 8.3inch | 6.8inch   \n",
       "2  51aB8tWuI7L.jpg  Size | 104mml 4.09 inch | 26mm | 8 | 110mml | ...   \n",
       "3  61B8m15lM2L.jpg  Colour | TRONI | Material | Polyester, Wood, |...   \n",
       "4  717ivWYnzNL.jpg  18W 2OOOLM CORDLESS LED SPOTLICGHM' | W/h 3 LI...   \n",
       "\n",
       "                                      bounding_boxes  \\\n",
       "0  [[[72, 108], [744, 108], [744, 208], [72, 208]...   \n",
       "1  [[[321, 429], [487, 429], [487, 504], [321, 50...   \n",
       "2  [[[42, 44], [548, 44], [548, 240], [42, 240]],...   \n",
       "3  [[[960, 280], [1106, 280], [1106, 328], [960, ...   \n",
       "4  [[[96, 15], [1404, 15], [1404, 92], [96, 92]],...   \n",
       "\n",
       "                                         confidences  \n",
       "0  [0.9999683339872828, 0.994195315096643, 0.9957...  \n",
       "1  [0.8948102844743362, 0.9990927450241459, 0.999...  \n",
       "2  [0.9999802708625793, 0.813093493905879, 0.9998...  \n",
       "3  [0.9999794138161714, 0.9992398964970641, 0.999...  \n",
       "4  [0.27820453229576786, 0.35610238375333075, 0.9...  "
      ]
     },
     "execution_count": 232,
     "metadata": {},
     "output_type": "execute_result"
    }
   ],
   "source": [
    "df.head()"
   ]
  },
  {
   "cell_type": "code",
   "execution_count": 233,
   "metadata": {},
   "outputs": [
    {
     "data": {
      "text/plain": [
       "[0.8948102844743362, 0.9990927450241459, 0.9991340209189975, 0.998025969560851]"
      ]
     },
     "execution_count": 233,
     "metadata": {},
     "output_type": "execute_result"
    }
   ],
   "source": [
    "eval(df.iloc[1][\"confidences\"])"
   ]
  },
  {
   "cell_type": "code",
   "execution_count": 234,
   "metadata": {},
   "outputs": [
    {
     "data": {
      "text/html": [
       "<div>\n",
       "<style scoped>\n",
       "    .dataframe tbody tr th:only-of-type {\n",
       "        vertical-align: middle;\n",
       "    }\n",
       "\n",
       "    .dataframe tbody tr th {\n",
       "        vertical-align: top;\n",
       "    }\n",
       "\n",
       "    .dataframe thead th {\n",
       "        text-align: right;\n",
       "    }\n",
       "</style>\n",
       "<table border=\"1\" class=\"dataframe\">\n",
       "  <thead>\n",
       "    <tr style=\"text-align: right;\">\n",
       "      <th></th>\n",
       "      <th>filename</th>\n",
       "      <th>ocr_text</th>\n",
       "      <th>bounding_boxes</th>\n",
       "      <th>confidences</th>\n",
       "      <th>top_20</th>\n",
       "    </tr>\n",
       "  </thead>\n",
       "  <tbody>\n",
       "    <tr>\n",
       "      <th>0</th>\n",
       "      <td>612M0V6x00L.jpg</td>\n",
       "      <td>DIMENSIONS | inch | 8 | 1.34  | inch | inch| |...</td>\n",
       "      <td>[[[72, 108], [744, 108], [744, 208], [72, 208]...</td>\n",
       "      <td>[0.9999683339872828, 0.994195315096643, 0.9957...</td>\n",
       "      <td>[{\"text\": \"DIMENSIONS \", \"confidence\": 0.99996...</td>\n",
       "    </tr>\n",
       "    <tr>\n",
       "      <th>1</th>\n",
       "      <td>51H4KRetCaL.jpg</td>\n",
       "      <td>7.9inch | 13.8inch | 8.3inch | 6.8inch</td>\n",
       "      <td>[[[321, 429], [487, 429], [487, 504], [321, 50...</td>\n",
       "      <td>[0.8948102844743362, 0.9990927450241459, 0.999...</td>\n",
       "      <td>[{\"text\": \" 8.3inch \", \"confidence\": 0.9991340...</td>\n",
       "    </tr>\n",
       "    <tr>\n",
       "      <th>2</th>\n",
       "      <td>51aB8tWuI7L.jpg</td>\n",
       "      <td>Size | 104mml 4.09 inch | 26mm | 8 | 110mml | ...</td>\n",
       "      <td>[[[42, 44], [548, 44], [548, 240], [42, 240]],...</td>\n",
       "      <td>[0.9999802708625793, 0.813093493905879, 0.9998...</td>\n",
       "      <td>[{\"text\": \"Size \", \"confidence\": 0.99998027086...</td>\n",
       "    </tr>\n",
       "    <tr>\n",
       "      <th>3</th>\n",
       "      <td>61B8m15lM2L.jpg</td>\n",
       "      <td>Colour | TRONI | Material | Polyester, Wood, |...</td>\n",
       "      <td>[[[960, 280], [1106, 280], [1106, 328], [960, ...</td>\n",
       "      <td>[0.9999794138161714, 0.9992398964970641, 0.999...</td>\n",
       "      <td>[{\"text\": \" Material \", \"confidence\": 0.999996...</td>\n",
       "    </tr>\n",
       "    <tr>\n",
       "      <th>4</th>\n",
       "      <td>717ivWYnzNL.jpg</td>\n",
       "      <td>18W 2OOOLM CORDLESS LED SPOTLICGHM' | W/h 3 LI...</td>\n",
       "      <td>[[[96, 15], [1404, 15], [1404, 92], [96, 92]],...</td>\n",
       "      <td>[0.27820453229576786, 0.35610238375333075, 0.9...</td>\n",
       "      <td>[{\"text\": \" 18v \", \"confidence\": 0.99622862763...</td>\n",
       "    </tr>\n",
       "  </tbody>\n",
       "</table>\n",
       "</div>"
      ],
      "text/plain": [
       "          filename                                           ocr_text  \\\n",
       "0  612M0V6x00L.jpg  DIMENSIONS | inch | 8 | 1.34  | inch | inch| |...   \n",
       "1  51H4KRetCaL.jpg             7.9inch | 13.8inch | 8.3inch | 6.8inch   \n",
       "2  51aB8tWuI7L.jpg  Size | 104mml 4.09 inch | 26mm | 8 | 110mml | ...   \n",
       "3  61B8m15lM2L.jpg  Colour | TRONI | Material | Polyester, Wood, |...   \n",
       "4  717ivWYnzNL.jpg  18W 2OOOLM CORDLESS LED SPOTLICGHM' | W/h 3 LI...   \n",
       "\n",
       "                                      bounding_boxes  \\\n",
       "0  [[[72, 108], [744, 108], [744, 208], [72, 208]...   \n",
       "1  [[[321, 429], [487, 429], [487, 504], [321, 50...   \n",
       "2  [[[42, 44], [548, 44], [548, 240], [42, 240]],...   \n",
       "3  [[[960, 280], [1106, 280], [1106, 328], [960, ...   \n",
       "4  [[[96, 15], [1404, 15], [1404, 92], [96, 92]],...   \n",
       "\n",
       "                                         confidences  \\\n",
       "0  [0.9999683339872828, 0.994195315096643, 0.9957...   \n",
       "1  [0.8948102844743362, 0.9990927450241459, 0.999...   \n",
       "2  [0.9999802708625793, 0.813093493905879, 0.9998...   \n",
       "3  [0.9999794138161714, 0.9992398964970641, 0.999...   \n",
       "4  [0.27820453229576786, 0.35610238375333075, 0.9...   \n",
       "\n",
       "                                              top_20  \n",
       "0  [{\"text\": \"DIMENSIONS \", \"confidence\": 0.99996...  \n",
       "1  [{\"text\": \" 8.3inch \", \"confidence\": 0.9991340...  \n",
       "2  [{\"text\": \"Size \", \"confidence\": 0.99998027086...  \n",
       "3  [{\"text\": \" Material \", \"confidence\": 0.999996...  \n",
       "4  [{\"text\": \" 18v \", \"confidence\": 0.99622862763...  "
      ]
     },
     "execution_count": 234,
     "metadata": {},
     "output_type": "execute_result"
    }
   ],
   "source": [
    "import pandas as pd\n",
    "import json\n",
    "import math\n",
    "\n",
    "def filter_top_20(row):\n",
    "    \n",
    "    ocr_text = row['ocr_text']\n",
    "    if type(ocr_text) != str:\n",
    "        return \"[]\"\n",
    "\n",
    "    ocr_text = ocr_text.split(\"|\")\n",
    "\n",
    "    bounding_boxes = eval(row['bounding_boxes'])\n",
    "    confidences = eval(row['confidences'])\n",
    "\n",
    "\n",
    "    # sort the bounding boxes by confidence\n",
    "    sorted_indices = sorted(range(len(confidences)), key=lambda k: confidences[k], reverse=True)\n",
    "\n",
    "    # get the top 20\n",
    "    top_20_indices = sorted_indices[:]\n",
    "\n",
    "    top_20 = []\n",
    "    for i in top_20_indices:\n",
    "        top_20.append({\n",
    "            'text': ocr_text[i],\n",
    "            'confidence': confidences[i],\n",
    "            'bounding_box': bounding_boxes[i]\n",
    "        })\n",
    "\n",
    "    return json.dumps(top_20)\n",
    "\n",
    "df['top_20'] = df.apply(filter_top_20, axis=1)\n",
    "\n",
    "df.head()\n",
    "\n"
   ]
  },
  {
   "cell_type": "code",
   "execution_count": 235,
   "metadata": {},
   "outputs": [
    {
     "data": {
      "text/plain": [
       "(50, 5)"
      ]
     },
     "execution_count": 235,
     "metadata": {},
     "output_type": "execute_result"
    }
   ],
   "source": [
    "df.shape"
   ]
  },
  {
   "cell_type": "code",
   "execution_count": 236,
   "metadata": {},
   "outputs": [],
   "source": [
    "# save the results\n",
    "df.to_csv('easyocr_results_top_20_3000.csv', index=False)"
   ]
  },
  {
   "cell_type": "code",
   "execution_count": 237,
   "metadata": {},
   "outputs": [
    {
     "data": {
      "text/html": [
       "<div>\n",
       "<style scoped>\n",
       "    .dataframe tbody tr th:only-of-type {\n",
       "        vertical-align: middle;\n",
       "    }\n",
       "\n",
       "    .dataframe tbody tr th {\n",
       "        vertical-align: top;\n",
       "    }\n",
       "\n",
       "    .dataframe thead th {\n",
       "        text-align: right;\n",
       "    }\n",
       "</style>\n",
       "<table border=\"1\" class=\"dataframe\">\n",
       "  <thead>\n",
       "    <tr style=\"text-align: right;\">\n",
       "      <th></th>\n",
       "      <th>filename</th>\n",
       "      <th>ocr_text</th>\n",
       "      <th>bounding_boxes</th>\n",
       "      <th>confidences</th>\n",
       "      <th>top_20</th>\n",
       "    </tr>\n",
       "  </thead>\n",
       "  <tbody>\n",
       "    <tr>\n",
       "      <th>0</th>\n",
       "      <td>612M0V6x00L.jpg</td>\n",
       "      <td>DIMENSIONS | inch | 8 | 1.34  | inch | inch| |...</td>\n",
       "      <td>[[[72, 108], [744, 108], [744, 208], [72, 208]...</td>\n",
       "      <td>[0.9999683339872828, 0.994195315096643, 0.9957...</td>\n",
       "      <td>[{\"text\": \"DIMENSIONS \", \"confidence\": 0.99996...</td>\n",
       "    </tr>\n",
       "    <tr>\n",
       "      <th>1</th>\n",
       "      <td>51H4KRetCaL.jpg</td>\n",
       "      <td>7.9inch | 13.8inch | 8.3inch | 6.8inch</td>\n",
       "      <td>[[[321, 429], [487, 429], [487, 504], [321, 50...</td>\n",
       "      <td>[0.8948102844743362, 0.9990927450241459, 0.999...</td>\n",
       "      <td>[{\"text\": \" 8.3inch \", \"confidence\": 0.9991340...</td>\n",
       "    </tr>\n",
       "    <tr>\n",
       "      <th>2</th>\n",
       "      <td>51aB8tWuI7L.jpg</td>\n",
       "      <td>Size | 104mml 4.09 inch | 26mm | 8 | 110mml | ...</td>\n",
       "      <td>[[[42, 44], [548, 44], [548, 240], [42, 240]],...</td>\n",
       "      <td>[0.9999802708625793, 0.813093493905879, 0.9998...</td>\n",
       "      <td>[{\"text\": \"Size \", \"confidence\": 0.99998027086...</td>\n",
       "    </tr>\n",
       "    <tr>\n",
       "      <th>3</th>\n",
       "      <td>61B8m15lM2L.jpg</td>\n",
       "      <td>Colour | TRONI | Material | Polyester, Wood, |...</td>\n",
       "      <td>[[[960, 280], [1106, 280], [1106, 328], [960, ...</td>\n",
       "      <td>[0.9999794138161714, 0.9992398964970641, 0.999...</td>\n",
       "      <td>[{\"text\": \" Material \", \"confidence\": 0.999996...</td>\n",
       "    </tr>\n",
       "    <tr>\n",
       "      <th>4</th>\n",
       "      <td>717ivWYnzNL.jpg</td>\n",
       "      <td>18W 2OOOLM CORDLESS LED SPOTLICGHM' | W/h 3 LI...</td>\n",
       "      <td>[[[96, 15], [1404, 15], [1404, 92], [96, 92]],...</td>\n",
       "      <td>[0.27820453229576786, 0.35610238375333075, 0.9...</td>\n",
       "      <td>[{\"text\": \" 18v \", \"confidence\": 0.99622862763...</td>\n",
       "    </tr>\n",
       "  </tbody>\n",
       "</table>\n",
       "</div>"
      ],
      "text/plain": [
       "          filename                                           ocr_text  \\\n",
       "0  612M0V6x00L.jpg  DIMENSIONS | inch | 8 | 1.34  | inch | inch| |...   \n",
       "1  51H4KRetCaL.jpg             7.9inch | 13.8inch | 8.3inch | 6.8inch   \n",
       "2  51aB8tWuI7L.jpg  Size | 104mml 4.09 inch | 26mm | 8 | 110mml | ...   \n",
       "3  61B8m15lM2L.jpg  Colour | TRONI | Material | Polyester, Wood, |...   \n",
       "4  717ivWYnzNL.jpg  18W 2OOOLM CORDLESS LED SPOTLICGHM' | W/h 3 LI...   \n",
       "\n",
       "                                      bounding_boxes  \\\n",
       "0  [[[72, 108], [744, 108], [744, 208], [72, 208]...   \n",
       "1  [[[321, 429], [487, 429], [487, 504], [321, 50...   \n",
       "2  [[[42, 44], [548, 44], [548, 240], [42, 240]],...   \n",
       "3  [[[960, 280], [1106, 280], [1106, 328], [960, ...   \n",
       "4  [[[96, 15], [1404, 15], [1404, 92], [96, 92]],...   \n",
       "\n",
       "                                         confidences  \\\n",
       "0  [0.9999683339872828, 0.994195315096643, 0.9957...   \n",
       "1  [0.8948102844743362, 0.9990927450241459, 0.999...   \n",
       "2  [0.9999802708625793, 0.813093493905879, 0.9998...   \n",
       "3  [0.9999794138161714, 0.9992398964970641, 0.999...   \n",
       "4  [0.27820453229576786, 0.35610238375333075, 0.9...   \n",
       "\n",
       "                                              top_20  \n",
       "0  [{\"text\": \"DIMENSIONS \", \"confidence\": 0.99996...  \n",
       "1  [{\"text\": \" 8.3inch \", \"confidence\": 0.9991340...  \n",
       "2  [{\"text\": \"Size \", \"confidence\": 0.99998027086...  \n",
       "3  [{\"text\": \" Material \", \"confidence\": 0.999996...  \n",
       "4  [{\"text\": \" 18v \", \"confidence\": 0.99622862763...  "
      ]
     },
     "execution_count": 237,
     "metadata": {},
     "output_type": "execute_result"
    }
   ],
   "source": [
    "df = pd.read_csv('easyocr_results_top_20_3000.csv')\n",
    "df.head()"
   ]
  },
  {
   "cell_type": "code",
   "execution_count": 238,
   "metadata": {},
   "outputs": [
    {
     "data": {
      "text/plain": [
       "(50, 5)"
      ]
     },
     "execution_count": 238,
     "metadata": {},
     "output_type": "execute_result"
    }
   ],
   "source": [
    "df.shape    "
   ]
  },
  {
   "cell_type": "code",
   "execution_count": 239,
   "metadata": {},
   "outputs": [
    {
     "name": "stdout",
     "output_type": "stream",
     "text": [
      "Merged dataset saved as 'merged_top20_with_entities.csv'\n"
     ]
    }
   ],
   "source": [
    "import pandas as pd\n",
    "\n",
    "# Load your current dataset with top_20\n",
    "df_top20 = pd.read_csv('easyocr_results_top_20_3000.csv')\n",
    "\n",
    "# Load the second dataset with image links, entity names, and entity values\n",
    "df_entities = pd.read_csv('../66e31d6ee96cd_student_resource_3/student_resource/dataset/train.csv')\n",
    "\n",
    "# Step 1: Extract filenames from the image links in df_entities\n",
    "df_entities['filename'] = df_entities['image_link'].apply(lambda x: x.split('/')[-1])\n",
    "\n",
    "# Step 2: Merge the two datasets based on 'filename'\n",
    "merged_df = pd.merge(df_top20, df_entities[['filename', 'entity_name', 'entity_value']], on='filename', how='left')\n",
    "\n",
    "# Step 3: Save the updated dataset with entity information appended\n",
    "merged_df.to_csv('merged_top20_with_entities.csv', index=False)\n",
    "\n",
    "print(\"Merged dataset saved as 'merged_top20_with_entities.csv'\")\n"
   ]
  },
  {
   "cell_type": "code",
   "execution_count": 240,
   "metadata": {},
   "outputs": [],
   "source": [
    "df = pd.read_csv('merged_top20_with_entities.csv')"
   ]
  },
  {
   "cell_type": "code",
   "execution_count": 241,
   "metadata": {},
   "outputs": [
    {
     "data": {
      "text/html": [
       "<div>\n",
       "<style scoped>\n",
       "    .dataframe tbody tr th:only-of-type {\n",
       "        vertical-align: middle;\n",
       "    }\n",
       "\n",
       "    .dataframe tbody tr th {\n",
       "        vertical-align: top;\n",
       "    }\n",
       "\n",
       "    .dataframe thead th {\n",
       "        text-align: right;\n",
       "    }\n",
       "</style>\n",
       "<table border=\"1\" class=\"dataframe\">\n",
       "  <thead>\n",
       "    <tr style=\"text-align: right;\">\n",
       "      <th></th>\n",
       "      <th>filename</th>\n",
       "      <th>ocr_text</th>\n",
       "      <th>bounding_boxes</th>\n",
       "      <th>confidences</th>\n",
       "      <th>top_20</th>\n",
       "      <th>entity_name</th>\n",
       "      <th>entity_value</th>\n",
       "    </tr>\n",
       "  </thead>\n",
       "  <tbody>\n",
       "    <tr>\n",
       "      <th>0</th>\n",
       "      <td>612M0V6x00L.jpg</td>\n",
       "      <td>DIMENSIONS | inch | 8 | 1.34  | inch | inch| |...</td>\n",
       "      <td>[[[72, 108], [744, 108], [744, 208], [72, 208]...</td>\n",
       "      <td>[0.9999683339872828, 0.994195315096643, 0.9957...</td>\n",
       "      <td>[{\"text\": \"DIMENSIONS \", \"confidence\": 0.99996...</td>\n",
       "      <td>width</td>\n",
       "      <td>1.34 inch</td>\n",
       "    </tr>\n",
       "    <tr>\n",
       "      <th>1</th>\n",
       "      <td>51H4KRetCaL.jpg</td>\n",
       "      <td>7.9inch | 13.8inch | 8.3inch | 6.8inch</td>\n",
       "      <td>[[[321, 429], [487, 429], [487, 504], [321, 50...</td>\n",
       "      <td>[0.8948102844743362, 0.9990927450241459, 0.999...</td>\n",
       "      <td>[{\"text\": \" 8.3inch \", \"confidence\": 0.9991340...</td>\n",
       "      <td>depth</td>\n",
       "      <td>13.8 inch</td>\n",
       "    </tr>\n",
       "    <tr>\n",
       "      <th>2</th>\n",
       "      <td>51aB8tWuI7L.jpg</td>\n",
       "      <td>Size | 104mml 4.09 inch | 26mm | 8 | 110mml | ...</td>\n",
       "      <td>[[[42, 44], [548, 44], [548, 240], [42, 240]],...</td>\n",
       "      <td>[0.9999802708625793, 0.813093493905879, 0.9998...</td>\n",
       "      <td>[{\"text\": \"Size \", \"confidence\": 0.99998027086...</td>\n",
       "      <td>height</td>\n",
       "      <td>4.33 inch</td>\n",
       "    </tr>\n",
       "    <tr>\n",
       "      <th>3</th>\n",
       "      <td>61B8m15lM2L.jpg</td>\n",
       "      <td>Colour | TRONI | Material | Polyester, Wood, |...</td>\n",
       "      <td>[[[960, 280], [1106, 280], [1106, 328], [960, ...</td>\n",
       "      <td>[0.9999794138161714, 0.9992398964970641, 0.999...</td>\n",
       "      <td>[{\"text\": \" Material \", \"confidence\": 0.999996...</td>\n",
       "      <td>maximum_weight_recommendation</td>\n",
       "      <td>1850 gram</td>\n",
       "    </tr>\n",
       "    <tr>\n",
       "      <th>4</th>\n",
       "      <td>717ivWYnzNL.jpg</td>\n",
       "      <td>18W 2OOOLM CORDLESS LED SPOTLICGHM' | W/h 3 LI...</td>\n",
       "      <td>[[[96, 15], [1404, 15], [1404, 92], [96, 92]],...</td>\n",
       "      <td>[0.27820453229576786, 0.35610238375333075, 0.9...</td>\n",
       "      <td>[{\"text\": \" 18v \", \"confidence\": 0.99622862763...</td>\n",
       "      <td>voltage</td>\n",
       "      <td>18.0 volt</td>\n",
       "    </tr>\n",
       "  </tbody>\n",
       "</table>\n",
       "</div>"
      ],
      "text/plain": [
       "          filename                                           ocr_text  \\\n",
       "0  612M0V6x00L.jpg  DIMENSIONS | inch | 8 | 1.34  | inch | inch| |...   \n",
       "1  51H4KRetCaL.jpg             7.9inch | 13.8inch | 8.3inch | 6.8inch   \n",
       "2  51aB8tWuI7L.jpg  Size | 104mml 4.09 inch | 26mm | 8 | 110mml | ...   \n",
       "3  61B8m15lM2L.jpg  Colour | TRONI | Material | Polyester, Wood, |...   \n",
       "4  717ivWYnzNL.jpg  18W 2OOOLM CORDLESS LED SPOTLICGHM' | W/h 3 LI...   \n",
       "\n",
       "                                      bounding_boxes  \\\n",
       "0  [[[72, 108], [744, 108], [744, 208], [72, 208]...   \n",
       "1  [[[321, 429], [487, 429], [487, 504], [321, 50...   \n",
       "2  [[[42, 44], [548, 44], [548, 240], [42, 240]],...   \n",
       "3  [[[960, 280], [1106, 280], [1106, 328], [960, ...   \n",
       "4  [[[96, 15], [1404, 15], [1404, 92], [96, 92]],...   \n",
       "\n",
       "                                         confidences  \\\n",
       "0  [0.9999683339872828, 0.994195315096643, 0.9957...   \n",
       "1  [0.8948102844743362, 0.9990927450241459, 0.999...   \n",
       "2  [0.9999802708625793, 0.813093493905879, 0.9998...   \n",
       "3  [0.9999794138161714, 0.9992398964970641, 0.999...   \n",
       "4  [0.27820453229576786, 0.35610238375333075, 0.9...   \n",
       "\n",
       "                                              top_20  \\\n",
       "0  [{\"text\": \"DIMENSIONS \", \"confidence\": 0.99996...   \n",
       "1  [{\"text\": \" 8.3inch \", \"confidence\": 0.9991340...   \n",
       "2  [{\"text\": \"Size \", \"confidence\": 0.99998027086...   \n",
       "3  [{\"text\": \" Material \", \"confidence\": 0.999996...   \n",
       "4  [{\"text\": \" 18v \", \"confidence\": 0.99622862763...   \n",
       "\n",
       "                     entity_name entity_value  \n",
       "0                          width    1.34 inch  \n",
       "1                          depth    13.8 inch  \n",
       "2                         height    4.33 inch  \n",
       "3  maximum_weight_recommendation    1850 gram  \n",
       "4                        voltage    18.0 volt  "
      ]
     },
     "execution_count": 241,
     "metadata": {},
     "output_type": "execute_result"
    }
   ],
   "source": [
    "df.head()"
   ]
  },
  {
   "cell_type": "code",
   "execution_count": 242,
   "metadata": {},
   "outputs": [
    {
     "data": {
      "text/plain": [
       "'FEEDING TABLE | 2-4 months | 24H | Icupl | 3 | 3 | 3 m | 13 | 13 | I3 | (g) | 1 | (g) | (g) | Icup) | cup | NDUCHT | 26 kg | 262 | 3+2/8 | 212 | 2+3/8 | 284 | 3 | 32 kg | 3+4/8 | 224 | 2+4/8 | 283 | 3+1/8 | 309 | 40 kg | 8 | 2+6/8 | 310 | 3+7/8 | 3+4/8 | 3 | 6-14 months | 12 m | 8 | 14 m | 10 m | Bw | Bwl | Bwl | B | (g) | (g) | (g) | (g) | NDUGHT | 26 kg | 3 | 3+2/8 | 3+2/8 | 8 | 288 | 289 | 3+2/8 | 287 | 32 kg | 4+2/8 | 3+6/8 | 3+6/8 | 3+6/8 | 379 | 8 | 8 | 335 | 40 kg | 4+5/8 | 4+4/8 | 8 | 4+4/8 | 447 | 8 | 8 | 5 | 1 | 1 | ME = 3815 kcallkg'"
      ]
     },
     "execution_count": 242,
     "metadata": {},
     "output_type": "execute_result"
    }
   ],
   "source": [
    "df.iloc[27][\"ocr_text\"]"
   ]
  },
  {
   "cell_type": "code",
   "execution_count": 243,
   "metadata": {},
   "outputs": [
    {
     "data": {
      "text/html": [
       "<div>\n",
       "<style scoped>\n",
       "    .dataframe tbody tr th:only-of-type {\n",
       "        vertical-align: middle;\n",
       "    }\n",
       "\n",
       "    .dataframe tbody tr th {\n",
       "        vertical-align: top;\n",
       "    }\n",
       "\n",
       "    .dataframe thead th {\n",
       "        text-align: right;\n",
       "    }\n",
       "</style>\n",
       "<table border=\"1\" class=\"dataframe\">\n",
       "  <thead>\n",
       "    <tr style=\"text-align: right;\">\n",
       "      <th></th>\n",
       "      <th>text</th>\n",
       "      <th>confidence</th>\n",
       "      <th>bounding_box</th>\n",
       "    </tr>\n",
       "  </thead>\n",
       "  <tbody>\n",
       "    <tr>\n",
       "      <th>0</th>\n",
       "      <td>283</td>\n",
       "      <td>1.000000</td>\n",
       "      <td>[[1201, 791], [1291, 791], [1291, 855], [1201,...</td>\n",
       "    </tr>\n",
       "    <tr>\n",
       "      <th>1</th>\n",
       "      <td>288</td>\n",
       "      <td>1.000000</td>\n",
       "      <td>[[1071, 1437], [1163, 1437], [1163, 1501], [10...</td>\n",
       "    </tr>\n",
       "    <tr>\n",
       "      <th>2</th>\n",
       "      <td>224</td>\n",
       "      <td>0.999998</td>\n",
       "      <td>[[749, 791], [841, 791], [841, 855], [749, 855]]</td>\n",
       "    </tr>\n",
       "    <tr>\n",
       "      <th>3</th>\n",
       "      <td>3</td>\n",
       "      <td>0.999998</td>\n",
       "      <td>[[1450, 706], [1480, 706], [1480, 752], [1450,...</td>\n",
       "    </tr>\n",
       "    <tr>\n",
       "      <th>4</th>\n",
       "      <td>335</td>\n",
       "      <td>0.999998</td>\n",
       "      <td>[[1739, 1531], [1833, 1531], [1833, 1597], [17...</td>\n",
       "    </tr>\n",
       "    <tr>\n",
       "      <th>...</th>\n",
       "      <td>...</td>\n",
       "      <td>...</td>\n",
       "      <td>...</td>\n",
       "    </tr>\n",
       "    <tr>\n",
       "      <th>77</th>\n",
       "      <td>NDUGHT</td>\n",
       "      <td>0.487112</td>\n",
       "      <td>[[212, 1398], [436, 1398], [436, 1704], [212, ...</td>\n",
       "    </tr>\n",
       "    <tr>\n",
       "      <th>78</th>\n",
       "      <td>1</td>\n",
       "      <td>0.485822</td>\n",
       "      <td>[[982, 574], [1049, 574], [1049, 623], [982, 6...</td>\n",
       "    </tr>\n",
       "    <tr>\n",
       "      <th>79</th>\n",
       "      <td>Icup)</td>\n",
       "      <td>0.429794</td>\n",
       "      <td>[[1871, 574], [1951, 574], [1951, 625], [1871,...</td>\n",
       "    </tr>\n",
       "    <tr>\n",
       "      <th>80</th>\n",
       "      <td>13</td>\n",
       "      <td>0.416609</td>\n",
       "      <td>[[300, 572], [362, 572], [362, 620], [300, 620]]</td>\n",
       "    </tr>\n",
       "    <tr>\n",
       "      <th>81</th>\n",
       "      <td>NDUCHT</td>\n",
       "      <td>0.392912</td>\n",
       "      <td>[[214, 658], [436, 658], [436, 966], [214, 966]]</td>\n",
       "    </tr>\n",
       "  </tbody>\n",
       "</table>\n",
       "<p>82 rows × 3 columns</p>\n",
       "</div>"
      ],
      "text/plain": [
       "        text  confidence                                       bounding_box\n",
       "0       283     1.000000  [[1201, 791], [1291, 791], [1291, 855], [1201,...\n",
       "1       288     1.000000  [[1071, 1437], [1163, 1437], [1163, 1501], [10...\n",
       "2       224     0.999998   [[749, 791], [841, 791], [841, 855], [749, 855]]\n",
       "3         3     0.999998  [[1450, 706], [1480, 706], [1480, 752], [1450,...\n",
       "4       335     0.999998  [[1739, 1531], [1833, 1531], [1833, 1597], [17...\n",
       "..       ...         ...                                                ...\n",
       "77   NDUGHT     0.487112  [[212, 1398], [436, 1398], [436, 1704], [212, ...\n",
       "78        1     0.485822  [[982, 574], [1049, 574], [1049, 623], [982, 6...\n",
       "79    Icup)     0.429794  [[1871, 574], [1951, 574], [1951, 625], [1871,...\n",
       "80       13     0.416609   [[300, 572], [362, 572], [362, 620], [300, 620]]\n",
       "81   NDUCHT     0.392912   [[214, 658], [436, 658], [436, 966], [214, 966]]\n",
       "\n",
       "[82 rows x 3 columns]"
      ]
     },
     "execution_count": 243,
     "metadata": {},
     "output_type": "execute_result"
    }
   ],
   "source": [
    "pd.DataFrame(eval(df.iloc[27][\"top_20\"]))"
   ]
  },
  {
   "cell_type": "code",
   "execution_count": 244,
   "metadata": {},
   "outputs": [
    {
     "name": "stdout",
     "output_type": "stream",
     "text": [
      "Entity:  item_weight\n",
      "Entity Value:  40 kilogram\n",
      "Image:  81Q4caGHqxL.jpg\n"
     ]
    }
   ],
   "source": [
    "# print the contents of df.iloc[8][\"top_20\"]\n",
    "print(\"Entity: \", df.iloc[27][\"entity_name\"])\n",
    "print(\"Entity Value: \", df.iloc[27][\"entity_value\"])\n",
    "print(\"Image: \", df.iloc[27][\"filename\"])"
   ]
  },
  {
   "cell_type": "code",
   "execution_count": null,
   "metadata": {},
   "outputs": [],
   "source": []
  },
  {
   "cell_type": "code",
   "execution_count": null,
   "metadata": {},
   "outputs": [],
   "source": []
  },
  {
   "cell_type": "code",
   "execution_count": null,
   "metadata": {},
   "outputs": [],
   "source": []
  }
 ],
 "metadata": {
  "kernelspec": {
   "display_name": "Python 3",
   "language": "python",
   "name": "python3"
  },
  "language_info": {
   "codemirror_mode": {
    "name": "ipython",
    "version": 3
   },
   "file_extension": ".py",
   "mimetype": "text/x-python",
   "name": "python",
   "nbconvert_exporter": "python",
   "pygments_lexer": "ipython3",
   "version": "3.10.12"
  }
 },
 "nbformat": 4,
 "nbformat_minor": 2
}
