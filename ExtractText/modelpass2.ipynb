{
 "cells": [
  {
   "cell_type": "code",
   "execution_count": 176,
   "metadata": {},
   "outputs": [
    {
     "data": {
      "text/html": [
       "<div>\n",
       "<style scoped>\n",
       "    .dataframe tbody tr th:only-of-type {\n",
       "        vertical-align: middle;\n",
       "    }\n",
       "\n",
       "    .dataframe tbody tr th {\n",
       "        vertical-align: top;\n",
       "    }\n",
       "\n",
       "    .dataframe thead th {\n",
       "        text-align: right;\n",
       "    }\n",
       "</style>\n",
       "<table border=\"1\" class=\"dataframe\">\n",
       "  <thead>\n",
       "    <tr style=\"text-align: right;\">\n",
       "      <th></th>\n",
       "      <th>filename</th>\n",
       "      <th>ocr_text</th>\n",
       "      <th>bounding_boxes</th>\n",
       "      <th>confidences</th>\n",
       "      <th>top_20</th>\n",
       "      <th>entity_name</th>\n",
       "      <th>entity_value</th>\n",
       "    </tr>\n",
       "  </thead>\n",
       "  <tbody>\n",
       "    <tr>\n",
       "      <th>0</th>\n",
       "      <td>612M0V6x00L.jpg</td>\n",
       "      <td>DIMENSIONS | inch | 8 | 1.34  | inch | inch| |...</td>\n",
       "      <td>[[[72, 108], [744, 108], [744, 208], [72, 208]...</td>\n",
       "      <td>[0.9999683339872828, 0.994195315096643, 0.9957...</td>\n",
       "      <td>[{\"text\": \"DIMENSIONS \", \"confidence\": 0.99996...</td>\n",
       "      <td>width</td>\n",
       "      <td>1.34 inch</td>\n",
       "    </tr>\n",
       "    <tr>\n",
       "      <th>1</th>\n",
       "      <td>51H4KRetCaL.jpg</td>\n",
       "      <td>7.9inch | 13.8inch | 8.3inch | 6.8inch</td>\n",
       "      <td>[[[321, 429], [487, 429], [487, 504], [321, 50...</td>\n",
       "      <td>[0.8948102844743362, 0.9990927450241459, 0.999...</td>\n",
       "      <td>[{\"text\": \" 8.3inch \", \"confidence\": 0.9991340...</td>\n",
       "      <td>depth</td>\n",
       "      <td>13.8 inch</td>\n",
       "    </tr>\n",
       "    <tr>\n",
       "      <th>2</th>\n",
       "      <td>51aB8tWuI7L.jpg</td>\n",
       "      <td>Size | 104mml 4.09 inch | 26mm | 8 | 110mml | ...</td>\n",
       "      <td>[[[42, 44], [548, 44], [548, 240], [42, 240]],...</td>\n",
       "      <td>[0.9999802708625793, 0.813093493905879, 0.9998...</td>\n",
       "      <td>[{\"text\": \"Size \", \"confidence\": 0.99998027086...</td>\n",
       "      <td>height</td>\n",
       "      <td>4.33 inch</td>\n",
       "    </tr>\n",
       "    <tr>\n",
       "      <th>3</th>\n",
       "      <td>61B8m15lM2L.jpg</td>\n",
       "      <td>Colour | TRONI | Material | Polyester, Wood, |...</td>\n",
       "      <td>[[[960, 280], [1106, 280], [1106, 328], [960, ...</td>\n",
       "      <td>[0.9999794138161714, 0.9992398964970641, 0.999...</td>\n",
       "      <td>[{\"text\": \" Material \", \"confidence\": 0.999996...</td>\n",
       "      <td>maximum_weight_recommendation</td>\n",
       "      <td>1850 gram</td>\n",
       "    </tr>\n",
       "    <tr>\n",
       "      <th>4</th>\n",
       "      <td>717ivWYnzNL.jpg</td>\n",
       "      <td>18W 2OOOLM CORDLESS LED SPOTLICGHM' | W/h 3 LI...</td>\n",
       "      <td>[[[96, 15], [1404, 15], [1404, 92], [96, 92]],...</td>\n",
       "      <td>[0.27820453229576786, 0.35610238375333075, 0.9...</td>\n",
       "      <td>[{\"text\": \" 18v \", \"confidence\": 0.99622862763...</td>\n",
       "      <td>voltage</td>\n",
       "      <td>18.0 volt</td>\n",
       "    </tr>\n",
       "  </tbody>\n",
       "</table>\n",
       "</div>"
      ],
      "text/plain": [
       "          filename                                           ocr_text  \\\n",
       "0  612M0V6x00L.jpg  DIMENSIONS | inch | 8 | 1.34  | inch | inch| |...   \n",
       "1  51H4KRetCaL.jpg             7.9inch | 13.8inch | 8.3inch | 6.8inch   \n",
       "2  51aB8tWuI7L.jpg  Size | 104mml 4.09 inch | 26mm | 8 | 110mml | ...   \n",
       "3  61B8m15lM2L.jpg  Colour | TRONI | Material | Polyester, Wood, |...   \n",
       "4  717ivWYnzNL.jpg  18W 2OOOLM CORDLESS LED SPOTLICGHM' | W/h 3 LI...   \n",
       "\n",
       "                                      bounding_boxes  \\\n",
       "0  [[[72, 108], [744, 108], [744, 208], [72, 208]...   \n",
       "1  [[[321, 429], [487, 429], [487, 504], [321, 50...   \n",
       "2  [[[42, 44], [548, 44], [548, 240], [42, 240]],...   \n",
       "3  [[[960, 280], [1106, 280], [1106, 328], [960, ...   \n",
       "4  [[[96, 15], [1404, 15], [1404, 92], [96, 92]],...   \n",
       "\n",
       "                                         confidences  \\\n",
       "0  [0.9999683339872828, 0.994195315096643, 0.9957...   \n",
       "1  [0.8948102844743362, 0.9990927450241459, 0.999...   \n",
       "2  [0.9999802708625793, 0.813093493905879, 0.9998...   \n",
       "3  [0.9999794138161714, 0.9992398964970641, 0.999...   \n",
       "4  [0.27820453229576786, 0.35610238375333075, 0.9...   \n",
       "\n",
       "                                              top_20  \\\n",
       "0  [{\"text\": \"DIMENSIONS \", \"confidence\": 0.99996...   \n",
       "1  [{\"text\": \" 8.3inch \", \"confidence\": 0.9991340...   \n",
       "2  [{\"text\": \"Size \", \"confidence\": 0.99998027086...   \n",
       "3  [{\"text\": \" Material \", \"confidence\": 0.999996...   \n",
       "4  [{\"text\": \" 18v \", \"confidence\": 0.99622862763...   \n",
       "\n",
       "                     entity_name entity_value  \n",
       "0                          width    1.34 inch  \n",
       "1                          depth    13.8 inch  \n",
       "2                         height    4.33 inch  \n",
       "3  maximum_weight_recommendation    1850 gram  \n",
       "4                        voltage    18.0 volt  "
      ]
     },
     "execution_count": 176,
     "metadata": {},
     "output_type": "execute_result"
    }
   ],
   "source": [
    "import pandas as pd \n",
    "\n",
    "df = pd.read_csv('merged_top20_with_entities.csv')\n",
    "df.head()   "
   ]
  },
  {
   "cell_type": "code",
   "execution_count": 177,
   "metadata": {},
   "outputs": [
    {
     "data": {
      "text/plain": [
       "(54, 7)"
      ]
     },
     "execution_count": 177,
     "metadata": {},
     "output_type": "execute_result"
    }
   ],
   "source": [
    "df.shape"
   ]
  },
  {
   "cell_type": "code",
   "execution_count": 178,
   "metadata": {},
   "outputs": [
    {
     "data": {
      "text/plain": [
       "'rrer Serie | Sullich, aromatisch- | 0 | wurzig, leicht scharf: | 1 | Auch fur Desserts: | 3 | Inhalt: | 5 | auf | eltte kuhl und | 08 | 1 | 1 | 02 1269\"04 166 1 | bis Ende: | E'"
      ]
     },
     "execution_count": 178,
     "metadata": {},
     "output_type": "execute_result"
    }
   ],
   "source": [
    "df.iloc[20][\"ocr_text\"]"
   ]
  },
  {
   "cell_type": "code",
   "execution_count": 179,
   "metadata": {},
   "outputs": [
    {
     "data": {
      "text/html": [
       "<div>\n",
       "<style scoped>\n",
       "    .dataframe tbody tr th:only-of-type {\n",
       "        vertical-align: middle;\n",
       "    }\n",
       "\n",
       "    .dataframe tbody tr th {\n",
       "        vertical-align: top;\n",
       "    }\n",
       "\n",
       "    .dataframe thead th {\n",
       "        text-align: right;\n",
       "    }\n",
       "</style>\n",
       "<table border=\"1\" class=\"dataframe\">\n",
       "  <thead>\n",
       "    <tr style=\"text-align: right;\">\n",
       "      <th></th>\n",
       "      <th>text</th>\n",
       "      <th>confidence</th>\n",
       "      <th>bounding_box</th>\n",
       "    </tr>\n",
       "  </thead>\n",
       "  <tbody>\n",
       "    <tr>\n",
       "      <th>0</th>\n",
       "      <td>in</td>\n",
       "      <td>0.999927</td>\n",
       "      <td>[[74, 474], [154, 474], [154, 550], [74, 550]]</td>\n",
       "    </tr>\n",
       "    <tr>\n",
       "      <th>1</th>\n",
       "      <td>L</td>\n",
       "      <td>0.975685</td>\n",
       "      <td>[[237, 317], [389, 317], [389, 377], [237, 377]]</td>\n",
       "    </tr>\n",
       "    <tr>\n",
       "      <th>2</th>\n",
       "      <td>8.2in</td>\n",
       "      <td>0.921599</td>\n",
       "      <td>[[480, 248], [672, 248], [672, 328], [480, 328]]</td>\n",
       "    </tr>\n",
       "    <tr>\n",
       "      <th>3</th>\n",
       "      <td>2.3</td>\n",
       "      <td>0.440438</td>\n",
       "      <td>[[55, 385], [179, 385], [179, 471], [55, 471]]</td>\n",
       "    </tr>\n",
       "  </tbody>\n",
       "</table>\n",
       "</div>"
      ],
      "text/plain": [
       "     text  confidence                                      bounding_box\n",
       "0      in    0.999927    [[74, 474], [154, 474], [154, 550], [74, 550]]\n",
       "1      L     0.975685  [[237, 317], [389, 317], [389, 377], [237, 377]]\n",
       "2  8.2in     0.921599  [[480, 248], [672, 248], [672, 328], [480, 328]]\n",
       "3    2.3     0.440438    [[55, 385], [179, 385], [179, 471], [55, 471]]"
      ]
     },
     "execution_count": 179,
     "metadata": {},
     "output_type": "execute_result"
    }
   ],
   "source": [
    "pd.DataFrame(eval(df.iloc[30][\"top_20\"]))"
   ]
  },
  {
   "cell_type": "code",
   "execution_count": 180,
   "metadata": {},
   "outputs": [
    {
     "data": {
      "text/plain": [
       "array([' in', ' L ', '8.2in ', ' 2.3 '], dtype=object)"
      ]
     },
     "execution_count": 180,
     "metadata": {},
     "output_type": "execute_result"
    }
   ],
   "source": [
    "pd.DataFrame(eval(df.iloc[30][\"top_20\"]))[\"text\"].values"
   ]
  },
  {
   "cell_type": "code",
   "execution_count": 181,
   "metadata": {},
   "outputs": [
    {
     "name": "stdout",
     "output_type": "stream",
     "text": [
      "Entity:  width\n",
      "Entity Value:  2.3 inch\n",
      "Image:  51XP0POc6dS.jpg\n"
     ]
    }
   ],
   "source": [
    "# print the contents of df.iloc[8][\"top_20\"]\n",
    "print(\"Entity: \", df.iloc[30][\"entity_name\"])\n",
    "print(\"Entity Value: \", df.iloc[30][\"entity_value\"])\n",
    "print(\"Image: \", df.iloc[30][\"filename\"])"
   ]
  },
  {
   "cell_type": "code",
   "execution_count": 200,
   "metadata": {},
   "outputs": [
    {
     "name": "stdout",
     "output_type": "stream",
     "text": [
      "1.34  \n",
      "[]\n",
      "13.8inch   6.8i\n",
      "[]\n",
      "4.33   110mml  \n",
      "[('', 'mm'), ('', 'mm')]\n",
      "1850.0 Grams   \n",
      "[]\n",
      "[('', 'v'), ('', 'v'), ('', 'v')]\n",
      "1957   1g  KASH\n",
      "[('', 'g')]\n",
      "[]\n",
      "[]\n",
      "4.9in   (12.5cm\n",
      "[('.5', 'cm')]\n",
      "2.7 INCHES TO 7\n",
      "[]\n",
      "[]\n",
      "[]\n",
      "[]\n",
      "4.2\"   4.0\"   3\n",
      "[('.0', '\"'), ('.6', '\"'), ('.2', '\"'), ('.0', '\"'), ('.2', '\"'), ('.6', '\"'), ('.6', '\"'), ('.2', '\"'), ('.53', '\"'), ('.7', '\"'), ('.2', '\"'), ('.1', '\"')]\n",
      "4.6\"   3.6\"   7\n",
      "[('.0', '\"'), ('.6', '\"'), ('.2', '\"'), ('.0', '\"'), ('.2', '\"'), ('.6', '\"'), ('.6', '\"'), ('.2', '\"'), ('.53', '\"'), ('.7', '\"'), ('.2', '\"'), ('.1', '\"')]\n",
      "[('.05', 'g'), ('.4', 'g'), ('', 'g'), ('', 'g'), ('.2', 'g'), ('', 'g'), ('', 'g'), ('', 'g')]\n",
      "[('', 'cm'), ('', 'cm'), ('', 'cm'), ('', 'cm')]\n",
      "[('', 'g')]\n",
      "21.5cm/8.5in  1\n",
      "[('.5', 'cm'), ('', 'cm'), ('', 'cm'), ('.5', 'cm')]\n",
      "5.5cm  1Ocm   1\n",
      "[('.5', 'cm')]\n",
      "[('', '02'), ('', '16')]\n",
      "[]\n",
      "28 Grams)   Tot\n",
      "[('.6', 'mg')]\n",
      "[('.7', 'cm'), ('.9', '\"'), ('.8', '\"')]\n",
      "9.7cm   17.Scm \n",
      "[('.7', 'cm'), ('.9', '\"'), ('.8', '\"')]\n",
      "[]\n",
      "7.2ft   6.6ft \n",
      "[('.6', 'ft'), ('', 'ft'), ('.3', 'ft'), ('', 'ft'), ('.2', 'ft'), ('.6', 'ft')]\n",
      "40 kg   40 kg  \n",
      "[('', 'kg'), ('', 'kg'), ('', 'kg'), ('', 'kg'), ('', 'kg'), ('', 'kg')]\n",
      "[]\n",
      "8.3iucbu   0AY \n",
      "[]\n",
      "2.3 \n",
      "[]\n",
      "[('', 'cm'), ('', 'cm'), ('', 'cm')]\n",
      "[('', 'cm'), ('', 'cm'), ('.5', 'cm')]\n",
      "[]\n",
      "[]\n",
      "[('.5', '\"'), ('.5', '\"'), ('.5', '\"'), ('.5', '\"'), ('.5', '\"'), ('.5', '\"'), ('', '\"')]\n",
      "[('', 'cm'), ('', 'cm'), ('.5', 'cm')]\n",
      "[]\n",
      "[]\n",
      "[]\n",
      "[]\n",
      "[('', 'g')]\n",
      "[('', '\"'), ('', 'cm'), ('', '\"'), ('', 'cm'), ('', '\"'), ('', '\"'), ('', 'ft')]\n",
      "7.08\"+2.75\"\n",
      "[('.08', '\"'), ('.75', '\"')]\n",
      "[('', '\"'), ('', '\"')]\n",
      "[('', 'mm'), ('', 'mm'), ('', 'mm'), ('', 'mm'), ('', 'mm'), ('', 'mm'), ('', 'mm')]\n",
      "[('', 'g')]\n",
      "1.6g   Shelf li\n",
      "[('.6', 'g'), (',1', '16')]\n",
      "13.2cm Tips: Pl\n",
      "[('.2', 'cm'), ('.3', 'cm'), ('.2', 'cm')]\n",
      "10.7in /   Befo\n",
      "[('.2', 'cm'), ('.3', 'cm'), ('.2', 'cm')]\n",
      "[('', 'kg'), ('', 'kg')]\n",
      "[]\n",
      "[('', 'cm'), ('', 'cm')]\n",
      "[('', '\"'), ('', '\"'), ('', '\"')]\n",
      "21\n"
     ]
    }
   ],
   "source": [
    "count = 0\n",
    "from constants import QTY_PATTERN\n",
    "\n",
    "for i in range(df.shape[0]):\n",
    "\n",
    "    textList = pd.DataFrame(eval(df.iloc[i][\"top_20\"]))[\"text\"].values\n",
    "    if(len(textList) == 0):\n",
    "        continue\n",
    "    text = \" \".join(textList)\n",
    "    # print(text)\n",
    "\n",
    "    ent = df.iloc[i][\"entity_name\"]\n",
    "    ans = df.iloc[i][\"entity_value\"].split()[0]\n",
    "    if ans in text:\n",
    "        count += 1\n",
    "        loc = text.find(ans)\n",
    "        print(text[loc:loc+15])\n",
    "    # print(ans)\n",
    "    print(QTY_PATTERN[ent].findall(text))\n",
    "    \n",
    "print(count)"
   ]
  },
  {
   "cell_type": "code",
   "execution_count": null,
   "metadata": {},
   "outputs": [],
   "source": []
  }
 ],
 "metadata": {
  "kernelspec": {
   "display_name": "Python 3",
   "language": "python",
   "name": "python3"
  },
  "language_info": {
   "codemirror_mode": {
    "name": "ipython",
    "version": 3
   },
   "file_extension": ".py",
   "mimetype": "text/x-python",
   "name": "python",
   "nbconvert_exporter": "python",
   "pygments_lexer": "ipython3",
   "version": "3.10.12"
  }
 },
 "nbformat": 4,
 "nbformat_minor": 2
}
